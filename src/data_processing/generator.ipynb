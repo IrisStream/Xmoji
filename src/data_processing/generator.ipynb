{
 "cells": [
  {
   "cell_type": "markdown",
   "metadata": {},
   "source": [
    "# Divide data\n",
    "\n",
    "Label distribution skew:\n",
    "* **Case 1**: Mỗi client $c$ trên $num\\_classes$ labels\n",
    "* **Case 2**: Chia sample của mỗi label cho mỗi client theo phân phối Dirichlet"
   ]
  },
  {
   "cell_type": "markdown",
   "metadata": {},
   "source": [
    "# Generate data (Quantity-based label imbalance)\n",
    "\n",
    "- Với mỗi client, assign một/một vài nhãn nhất định\n",
    "- Với mỗi nhãn, chia đều số sample cho client sở hữu nó"
   ]
  },
  {
   "cell_type": "code",
   "execution_count": 3,
   "metadata": {},
   "outputs": [
    {
     "name": "stdout",
     "output_type": "stream",
     "text": [
      "0                                                       TEXT\n",
      "1                                walking in the woods with a\n",
      "2          it took us 4 days but we finally got out of 4 ...\n",
      "3          was pretty sure i had used up all my suffer-re...\n",
      "4          got it. good points there. as i sit here in tu...\n",
      "                                 ...                        \n",
      "9988375    rt @USER: alert: all apparel is 50% off!!! hea...\n",
      "9988376                  rt @USER: how big is your american?\n",
      "9988377    check out pureplates and grab some food and #k...\n",
      "9988378               got the wife 's permission so i 'm in!\n",
      "9988379    rt @USER: happy almost 12th birthday the one a...\n",
      "Name: TEXT, Length: 9988380, dtype: object\n"
     ]
    }
   ],
   "source": [
    "from generator import get_X_y\n",
    "\n",
    "X,y = get_X_y()\n",
    "\n",
    "print(X)"
   ]
  },
  {
   "cell_type": "code",
   "execution_count": null,
   "metadata": {},
   "outputs": [],
   "source": []
  }
 ],
 "metadata": {
  "kernelspec": {
   "display_name": "thesis",
   "language": "python",
   "name": "python3"
  },
  "language_info": {
   "codemirror_mode": {
    "name": "ipython",
    "version": 3
   },
   "file_extension": ".py",
   "mimetype": "text/x-python",
   "name": "python",
   "nbconvert_exporter": "python",
   "pygments_lexer": "ipython3",
   "version": "3.9.18"
  }
 },
 "nbformat": 4,
 "nbformat_minor": 2
}
